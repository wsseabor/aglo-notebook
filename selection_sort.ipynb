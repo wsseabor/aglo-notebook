{
 "cells": [
  {
   "cell_type": "code",
   "execution_count": 1,
   "id": "a4ed737e-9f48-43ed-bebd-c854dc909e99",
   "metadata": {},
   "outputs": [],
   "source": [
    "import numpy as np\n",
    "import random\n",
    "import matplotlib as mpl\n",
    "from matplotlib import pyplot as plt\n",
    "import timeit\n",
    "from timeit import Timer\n",
    "%matplotlib inline"
   ]
  },
  {
   "cell_type": "code",
   "execution_count": 3,
   "id": "7fdcecbb-20b3-4a75-b69c-b32aae58df24",
   "metadata": {},
   "outputs": [
    {
     "data": {
      "image/png": "[encoded data removed]",
      "text/plain": [
       "<Figure size 432x288 with 1 Axes>"
      ]
     },
     "metadata": {
      "needs_background": "light"
     },
     "output_type": "display_data"
    },
    {
     "name": "stdout",
     "output_type": "stream",
     "text": [
      "Average time: 0.008066078325500712; Maximum Time: 0.02455777896102518; Mininum Time: 0.0070535080740228295.\n"
     ]
    },
    {
     "data": {
      "text/plain": [
       "(0.008066078325500712, 0.02455777896102518, 0.0070535080740228295)"
      ]
     },
     "execution_count": 3,
     "metadata": {},
     "output_type": "execute_result"
    }
   ],
   "source": [
    "#Selection sort\n",
    "\n",
    "#Makes unique list of N items\n",
    "def makeList(items, lowerBound, upperBound):\n",
    "    x = []\n",
    "    \n",
    "    for i in range(items):\n",
    "        x.append(random.randint(lowerBound, upperBound))\n",
    "                 \n",
    "    return x\n",
    "\n",
    "def selSort(listToSort):\n",
    "    for i in range(len(listToSort)):\n",
    "        minIdx = i\n",
    "        \n",
    "        for j in range(i+1, len(listToSort)):\n",
    "            if (listToSort[minIdx] > listToSort[j]):\n",
    "                minIdx = j\n",
    "                \n",
    "        listToSort[i], listToSort[minIdx] = listToSort[minIdx], listToSort[i]\n",
    "        \n",
    "    return listToSort\n",
    "\n",
    "#Returns data of sorting algo given N number(s) of passes through the algo\n",
    "def getSortingData(epochs):\n",
    "    x = 0\n",
    "    times = []\n",
    "    \n",
    "    while x < epochs:\n",
    "        i = makeList(50, 0, 100)\n",
    "        \n",
    "        t = Timer(lambda: selSort(i))\n",
    "        times.append(t.timeit(number = epochs))\n",
    "        \n",
    "        x += 1\n",
    "        \n",
    "    return times\n",
    "\n",
    "#Returns relevant stats of sorting algo time\n",
    "def getStats():\n",
    "    \n",
    "    #Records total sum, average time\n",
    "    total = 0\n",
    "    avg = 0\n",
    "    runs = []\n",
    "    \n",
    "    #Call get sorting data to analyze\n",
    "    x = getSortingData(100)\n",
    "    \n",
    "    for i in range(len(x)):\n",
    "        runs.append(i)\n",
    "    \n",
    "    total = sum(x)\n",
    "    \n",
    "    avg = total / len(x)\n",
    "    maxTime = max(x)\n",
    "    minTime = min(x)\n",
    "    \n",
    "    plt.plot(runs, x)\n",
    "    plt.ylabel('Time (in ms)')\n",
    "    plt.xlabel('Number of Runs')\n",
    "    plt.show()\n",
    "    \n",
    "    print(f\"Average time: {avg}; Maximum Time: {maxTime}; Mininum Time: {minTime}.\")\n",
    "    \n",
    "    return avg, maxTime, minTime\n",
    "\n",
    "getStats()"
   ]
  },
  {
   "cell_type": "code",
   "execution_count": null,
   "id": "51130233-d3c2-404d-90d2-5d7394618cb2",
   "metadata": {},
   "outputs": [],
   "source": []
  }
 ],
 "metadata": {
  "kernelspec": {
   "display_name": "Python 3 (ipykernel)",
   "language": "python",
   "name": "python3"
  },
  "language_info": {
   "codemirror_mode": {
    "name": "ipython",
    "version": 3
   },
   "file_extension": ".py",
   "mimetype": "text/x-python",
   "name": "python",
   "nbconvert_exporter": "python",
   "pygments_lexer": "ipython3",
   "version": "3.10.2"
  }
 },
 "nbformat": 4,
 "nbformat_minor": 5
}

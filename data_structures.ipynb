{
 "cells": [
  {
   "cell_type": "code",
   "execution_count": 4,
   "id": "fbf44ff6-3cce-4240-8133-b2c4b671677a",
   "metadata": {},
   "outputs": [
    {
     "name": "stdout",
     "output_type": "stream",
     "text": [
      "[0, 1, 2, 3, 4, 5, 6, 7, 8, 9]\n",
      "[0, 1, 2, 3, 4, 5, 6, 7, 8]\n",
      "10\n",
      "9\n"
     ]
    },
    {
     "data": {
      "text/plain": [
       "'[1,2,3,4,5,6,7,8,9]'"
      ]
     },
     "execution_count": 4,
     "metadata": {},
     "output_type": "execute_result"
    }
   ],
   "source": [
    "#Stack implementation\n",
    "#Follows last in, first out procedure\n",
    "#First with inbuilt python utilies\n",
    "#Python's inbuilt list function gets this job done easily\n",
    "\n",
    "#Declare a list\n",
    "items = []\n",
    "\n",
    "#Populate\n",
    "for i in range(10):\n",
    "    items.append(i)\n",
    "\n",
    "#Print to console test\n",
    "print(items)\n",
    "\n",
    "#Using inbuild list.pop method, we can see that the last item in is the first item removed\n",
    "items.pop()\n",
    "\n",
    "#Print to console test\n",
    "print(items)\n",
    "\n",
    "#Now for a naive implemntation\n",
    "\n",
    "class Stack:\n",
    "    #Declare an empty list\n",
    "    def __init__(self):\n",
    "        self.stack = []\n",
    "        \n",
    "    def pop(self):\n",
    "        if len(self.stack) < 1: #Sure whatever\n",
    "            return None\n",
    "        else:\n",
    "            #Slice to last element of list\n",
    "            last = self.stack[-1:]\n",
    "            #Copy list to the last element\n",
    "            self.stack = self.stack[0:-1]\n",
    "            return last\n",
    "                \n",
    "    def push(self, item):\n",
    "        #List concatentation\n",
    "        self.stack += [item]\n",
    "    \n",
    "    def size(self):\n",
    "        #Thanks be to the len method\n",
    "        return len(self.stack)\n",
    "    \n",
    "    def __repr__(self):\n",
    "        return '[%s]' % ','.join(map(str, self.stack))\n",
    "    \n",
    "#Initial state\n",
    "stack = Stack()\n",
    "for i in range(10):\n",
    "    stack.push(i+1)\n",
    "print(stack.size())\n",
    "stack.__repr__()\n",
    "\n",
    "#Remove last item from list\n",
    "stack.pop()\n",
    "print(stack.size())\n",
    "stack.__repr__()"
   ]
  },
  {
   "cell_type": "code",
   "execution_count": null,
   "id": "214b8d93-37b7-4551-8542-68fea5a76081",
   "metadata": {},
   "outputs": [],
   "source": []
  }
 ],
 "metadata": {
  "kernelspec": {
   "display_name": "Python 3 (ipykernel)",
   "language": "python",
   "name": "python3"
  },
  "language_info": {
   "codemirror_mode": {
    "name": "ipython",
    "version": 3
   },
   "file_extension": ".py",
   "mimetype": "text/x-python",
   "name": "python",
   "nbconvert_exporter": "python",
   "pygments_lexer": "ipython3",
   "version": "3.10.2"
  }
 },
 "nbformat": 4,
 "nbformat_minor": 5
}

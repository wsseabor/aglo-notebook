{
 "cells": [
  {
   "cell_type": "code",
   "execution_count": null,
   "id": "fbf44ff6-3cce-4240-8133-b2c4b671677a",
   "metadata": {},
   "outputs": [],
   "source": [
    "#Stack implementation\n",
    "#Follows last in, first out procedure\n",
    "#First with inbuilt python utilies\n",
    "#Python's inbuilt list function gets this job done easily\n",
    "\n",
    "#Declare a list\n",
    "items = []\n",
    "\n",
    "#Populate\n",
    "for i in range(10):\n",
    "    items.append(i)\n",
    "\n",
    "#Print to console test\n",
    "print(items)\n",
    "\n",
    "#Using inbuild list.pop method, we can see that the last item in is the first item removed\n",
    "items.pop()\n",
    "\n",
    "#Print to console test\n",
    "print(items)\n",
    "\n",
    "#Now for a naive implemntation\n",
    "\n",
    "class Stack:\n",
    "    #Declare an empty list\n",
    "    def __init__(self):\n",
    "        self.stack = []\n",
    "        \n",
    "    def pop(self):\n",
    "        if len(self.stack) < 1:\n",
    "            return None\n",
    "        else:\n",
    "            return self.stack.pop()\n",
    "        \n",
    "    def push(self, *item):\n",
    "        self.stack += [item]\n",
    "    \n",
    "    def size(self):\n",
    "        return len(self.stack)\n",
    "    \n",
    "    def __repr__(self):\n",
    "        return '[%s]' % ','.join(map(str, self.stack))\n",
    "    \n",
    "#Initial state\n",
    "stack = Stack()\n",
    "for i in range(10):\n",
    "    stack.push(i+1)\n",
    "stack.size()\n",
    "stack.__repr__()\n",
    "\n",
    "#Remove last item from list\n",
    "stack.pop()\n",
    "stack.__repr__()"
   ]
  }
 ],
 "metadata": {
  "kernelspec": {
   "display_name": "Python 3 (ipykernel)",
   "language": "python",
   "name": "python3"
  },
  "language_info": {
   "codemirror_mode": {
    "name": "ipython",
    "version": 3
   },
   "file_extension": ".py",
   "mimetype": "text/x-python",
   "name": "python",
   "nbconvert_exporter": "python",
   "pygments_lexer": "ipython3",
   "version": "3.10.2"
  }
 },
 "nbformat": 4,
 "nbformat_minor": 5
}

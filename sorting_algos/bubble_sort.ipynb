{
 "cells": [
  {
   "cell_type": "code",
   "execution_count": 2,
   "id": "b3f5970f-8d51-41fc-91cb-68144055ea49",
   "metadata": {},
   "outputs": [],
   "source": [
    "import numpy as np\n",
    "import random\n",
    "import matplotlib as mpl\n",
    "from matplotlib import pyplot as plt\n",
    "import timeit\n",
    "from timeit import Timer\n",
    "%matplotlib inline"
   ]
  },
  {
   "cell_type": "code",
   "execution_count": 3,
   "id": "f51c03ac-6fb7-465a-a86c-26c264e3d8be",
   "metadata": {},
   "outputs": [
    {
     "data": {
      "image/png": "[encoded data removed]",
      "text/plain": [
       "<Figure size 432x288 with 1 Axes>"
      ]
     },
     "metadata": {
      "needs_background": "light"
     },
     "output_type": "display_data"
    },
    {
     "name": "stdout",
     "output_type": "stream",
     "text": [
      "Average time: 0.0008190456521697342; Maximum Time: 0.0021007219329476357; Mininum Time: 0.000531340017914772.\n"
     ]
    },
    {
     "data": {
      "text/plain": [
       "(0.0008190456521697342, 0.0021007219329476357, 0.000531340017914772)"
      ]
     },
     "execution_count": 3,
     "metadata": {},
     "output_type": "execute_result"
    }
   ],
   "source": [
    "#Bubble sort, O(N) linear time-space complexity, must iterate through list for each item in it.\n",
    "\n",
    "#Makes unique list of N items\n",
    "def makeList(items, lowerBound, upperBound):\n",
    "    x = []\n",
    "    \n",
    "    for i in range(items):\n",
    "        x.append(random.randint(lowerBound, upperBound))\n",
    "                 \n",
    "    return x\n",
    "\n",
    "#Algorithm\n",
    "def bubbleSort(listToSort):\n",
    "    indexLength = len(listToSort) - 1\n",
    "    case = False\n",
    "    \n",
    "    while not case:\n",
    "        case = True\n",
    "        \n",
    "        for i in range(0, indexLength):\n",
    "            if (listToSort[i] > listToSort[i + 1]):\n",
    "                case = False\n",
    "                listToSort[i], listToSort[i + 1] = listToSort[i + 1], listToSort[i]\n",
    "                \n",
    "    return listToSort\n",
    "\n",
    "#Returns data of sorting algo given N number(s) of passes through the algo\n",
    "def getSortingData(epochs):\n",
    "    x = 0\n",
    "    times = []\n",
    "    \n",
    "    while x < epochs:\n",
    "        i = makeList(50, 0, 100)\n",
    "        \n",
    "        t = Timer(lambda: bubbleSort(i))\n",
    "        times.append(t.timeit(number = epochs))\n",
    "        \n",
    "        x += 1\n",
    "        \n",
    "    return times\n",
    "\n",
    "#Returns relevant stats of sorting algo time\n",
    "def getStats():\n",
    "    \n",
    "    #Records total sum, average time\n",
    "    total = 0\n",
    "    avg = 0\n",
    "    runs = []\n",
    "    \n",
    "    #Call get sorting data to analyze\n",
    "    x = getSortingData(100)\n",
    "    \n",
    "    for i in range(len(x)):\n",
    "        runs.append(i)\n",
    "    \n",
    "    total = sum(x)\n",
    "    \n",
    "    avg = total / len(x)\n",
    "    maxTime = max(x)\n",
    "    minTime = min(x)\n",
    "    \n",
    "    plt.plot(runs, x)\n",
    "    plt.ylabel('Time (in ms)')\n",
    "    plt.xlabel('Number of Runs')\n",
    "    plt.show()\n",
    "    \n",
    "    print(f\"Average time: {avg}; Maximum Time: {maxTime}; Mininum Time: {minTime}.\")\n",
    "    \n",
    "    return avg, maxTime, minTime\n",
    "\n",
    "getStats()"
   ]
  },
  {
   "cell_type": "code",
   "execution_count": null,
   "id": "d9f57378-a845-4686-96c6-5bbe8b11bb13",
   "metadata": {},
   "outputs": [],
   "source": []
  }
 ],
 "metadata": {
  "kernelspec": {
   "display_name": "Python 3 (ipykernel)",
   "language": "python",
   "name": "python3"
  },
  "language_info": {
   "codemirror_mode": {
    "name": "ipython",
    "version": 3
   },
   "file_extension": ".py",
   "mimetype": "text/x-python",
   "name": "python",
   "nbconvert_exporter": "python",
   "pygments_lexer": "ipython3",
   "version": "3.10.2"
  }
 },
 "nbformat": 4,
 "nbformat_minor": 5
}

{
 "cells": [
  {
   "cell_type": "code",
   "execution_count": null,
   "id": "dcee53bf-e8b8-4748-a138-4c56420e0f73",
   "metadata": {},
   "outputs": [],
   "source": [
    "#Binary search improves upon the brute force of linear search via a divide and conquer method\n",
    "#Binary search assumes that the array is already sorted in ascending order\n",
    "#Essentially, if already sorted, we start with the middle index of the list or array\n",
    "#and compare that value to the target value, if that index value is greater than our target,\n",
    "#then we know that the target must lie to the right of that index, and vice versa for if it is lesser than the target\n",
    "#This essentially cuts the search time in half\n",
    "\n",
    "#Delcare a list of values (already sorted)\n",
    "x = [1, 2, 5, 18, 19, 28, 35, 59, 98, 201, 333]\n",
    "\n",
    "#@params array to be searched, lowest index, highest index, target value\n",
    "#Do it recursively\n",
    "def binarySearchRecursive(arr, low, high, target):\n",
    "    \n",
    "    #Edge case\n",
    "    if low > high:\n",
    "        return False\n",
    "\n",
    "    #Everything else\n",
    "    if high >= low:\n",
    "        #Simple mean calculation will give us the middle index, must do integer division or throw type error\n",
    "        mid = (high + low) // 2\n",
    "        \n",
    "        #Edge case two, if target value is actually the middle one\n",
    "        if (arr[mid] == target):\n",
    "            return mid\n",
    "        \n",
    "    if (arr[mid] < target):\n",
    "        return binarySearch(x, mid + 1, high, target)\n",
    "    \n",
    "    else:\n",
    "        return binarySearch(x, low, mid - 1, target)\n",
    "            \n",
    "binarySearchRecursive(x, 0, len(x), 98)\n",
    "\n",
    "#Do it iteratively (later)\n",
    "def binarySearchIterative(arr, low, high, target):\n",
    "    \n",
    "    \n",
    "                \n",
    "                \n",
    "                \n",
    "            \n",
    "        \n",
    "        \n",
    "    "
   ]
  }
 ],
 "metadata": {
  "kernelspec": {
   "display_name": "Python 3 (ipykernel)",
   "language": "python",
   "name": "python3"
  },
  "language_info": {
   "codemirror_mode": {
    "name": "ipython",
    "version": 3
   },
   "file_extension": ".py",
   "mimetype": "text/x-python",
   "name": "python",
   "nbconvert_exporter": "python",
   "pygments_lexer": "ipython3",
   "version": "3.10.2"
  }
 },
 "nbformat": 4,
 "nbformat_minor": 5
}

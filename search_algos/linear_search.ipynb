{
 "cells": [
  {
   "cell_type": "code",
   "execution_count": 47,
   "id": "dd447484-7240-48e1-bfcb-e4ebded50d80",
   "metadata": {},
   "outputs": [
    {
     "name": "stdout",
     "output_type": "stream",
     "text": [
      "Found target: 10 at index 4\n"
     ]
    }
   ],
   "source": [
    "#Linear search is the simplest search to implement\n",
    "#Say we have a given list and need to find a certain value in that list\n",
    "#Simplest way is to traverse the list until the desired value is found\n",
    "\n",
    "\n",
    "#Declare a list of values\n",
    "vals = [1, 3, 2, 5, 10, 44, 2, 6, 7]\n",
    "\n",
    "def linearSearch(array, target):\n",
    "    for i in range(len(array)):\n",
    "        if (array[i] == target):\n",
    "            return print(f\"Found target: {target} at index {i}\")\n",
    "        \n",
    "    return -1\n",
    "        \n",
    "\n",
    "linearSearch(vals, 10)\n",
    "    "
   ]
  },
  {
   "cell_type": "code",
   "execution_count": null,
   "id": "3e077c29-48ee-4154-9d4b-d82dc551a7d6",
   "metadata": {},
   "outputs": [],
   "source": [
    "#Linear search has a time complexity of O(n) as each element in the list or array must be traversed\n",
    "#at least once over\n",
    "#Similary has a space complexity of of O(1) as only one element consumes space in memory, that is \n",
    "#the target value being searched for"
   ]
  }
 ],
 "metadata": {
  "kernelspec": {
   "display_name": "Python 3 (ipykernel)",
   "language": "python",
   "name": "python3"
  },
  "language_info": {
   "codemirror_mode": {
    "name": "ipython",
    "version": 3
   },
   "file_extension": ".py",
   "mimetype": "text/x-python",
   "name": "python",
   "nbconvert_exporter": "python",
   "pygments_lexer": "ipython3",
   "version": "3.10.2"
  }
 },
 "nbformat": 4,
 "nbformat_minor": 5
}
